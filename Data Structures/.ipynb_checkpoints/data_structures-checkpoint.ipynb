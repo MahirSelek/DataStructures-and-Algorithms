{
 "cells": [
  {
   "cell_type": "markdown",
   "metadata": {},
   "source": [
    "# QUEUE"
   ]
  },
  {
   "cell_type": "code",
   "execution_count": 1,
   "metadata": {},
   "outputs": [
    {
     "name": "stdout",
     "output_type": "stream",
     "text": [
      "Initial stack\n",
      "['mahir', 'berat', 3.4, 'merhaba', 2]\n",
      "\n",
      " Elements popped from the queue: \n",
      "mahir\n",
      "berat\n",
      "3.4\n",
      "\n",
      " Queue after elements are popped: \n",
      "['merhaba', 2]\n",
      "['merhaba', 2, 'update', 'Version 3.0']\n"
     ]
    }
   ],
   "source": [
    "#Python code to demonstrate queue implementation \n",
    "#using list\n",
    "\n",
    "queue = []\n",
    "\n",
    "# append() function to push elements in the queue\n",
    "\n",
    "queue.append(\"mahir\")\n",
    "queue.append(\"berat\") \n",
    "queue.append(3.4)\n",
    "queue.append('merhaba')\n",
    "queue.append(2)\n",
    "\n",
    "print('Initial stack')\n",
    "print(queue)\n",
    "\n",
    "# pop() function to pop elements from stack \n",
    "# in FIFO order\n",
    "\n",
    "print('\\n Elements popped from the queue: ')\n",
    "print(queue.pop(0))\n",
    "print(queue.pop(0))\n",
    "print(queue.pop(0))\n",
    "\n",
    "print('\\n Queue after elements are popped: ')\n",
    "print(queue)\n",
    "\n",
    "# Another try\n",
    "\n",
    "queue.append('update')\n",
    "queue.append(\"Version 3.0\")\n",
    "\n",
    "print(queue)"
   ]
  },
  {
   "cell_type": "markdown",
   "metadata": {},
   "source": [
    "# STACK"
   ]
  },
  {
   "cell_type": "code",
   "execution_count": 2,
   "metadata": {},
   "outputs": [
    {
     "name": "stdout",
     "output_type": "stream",
     "text": [
      "Initial stack\n",
      "['mahir', 'berat', 3.4, 'merhaba', 2]\n",
      "\n",
      " Elements popped from the stack: \n",
      "2\n",
      "merhaba\n",
      "3.4\n",
      "\n",
      " Stack after elements are popped: \n",
      "['mahir', 'berat']\n",
      "\n",
      "Alt satıra inmesi için n komutunu kullandım başta:\n",
      "['mahir', 'berat', 'update', 'Version 3.0']\n"
     ]
    }
   ],
   "source": [
    "#Python code to demonstrate stack implementation \n",
    "#using list\n",
    "\n",
    "stack = []\n",
    "\n",
    "# append() function to push elements in the stack\n",
    "\n",
    "stack.append(\"mahir\")\n",
    "stack.append(\"berat\") \n",
    "stack.append(3.4)\n",
    "stack.append('merhaba')\n",
    "stack.append(2)\n",
    "\n",
    "print('Initial stack')\n",
    "print(stack)\n",
    "\n",
    "# pop() function topop elements from stack \n",
    "# in LIFO/FILO order\n",
    "\n",
    "print('\\n Elements popped from the stack: ')\n",
    "print(stack.pop())\n",
    "print(stack.pop())\n",
    "print(stack.pop())\n",
    "\n",
    "print('\\n Stack after elements are popped: ')\n",
    "print(stack)\n",
    "\n",
    "# Another try\n",
    "\n",
    "stack.append('update')\n",
    "stack.append(\"Version 3.0\")\n",
    "\n",
    "print('\\nAlt satıra inmesi için n komutunu kullandım başta:')\n",
    "print(stack)"
   ]
  },
  {
   "cell_type": "code",
   "execution_count": 3,
   "metadata": {},
   "outputs": [],
   "source": [
    "list_deneme = []"
   ]
  },
  {
   "cell_type": "code",
   "execution_count": 4,
   "metadata": {},
   "outputs": [],
   "source": [
    "list_deneme.append(\"mahir\")\n",
    "list_deneme.append(\"sklhfdds\")\n",
    "list_deneme.append(2)\n",
    "list_deneme.append(2.3)\n",
    "list_deneme.append(-34)"
   ]
  },
  {
   "cell_type": "code",
   "execution_count": 5,
   "metadata": {},
   "outputs": [
    {
     "data": {
      "text/plain": [
       "['mahir', 'sklhfdds', 2, 2.3, -34]"
      ]
     },
     "execution_count": 5,
     "metadata": {},
     "output_type": "execute_result"
    }
   ],
   "source": [
    "list_deneme"
   ]
  },
  {
   "cell_type": "code",
   "execution_count": 6,
   "metadata": {},
   "outputs": [
    {
     "data": {
      "text/plain": [
       "['sklhfdds', 2, 2.3, -34]"
      ]
     },
     "execution_count": 6,
     "metadata": {},
     "output_type": "execute_result"
    }
   ],
   "source": [
    "list_deneme.pop(0)\n",
    "list_deneme"
   ]
  },
  {
   "cell_type": "code",
   "execution_count": 2,
   "metadata": {},
   "outputs": [],
   "source": [
    "list_can= [1,2,3,3,4,5]\n",
    "\n",
    "list_can.remove(3)"
   ]
  },
  {
   "cell_type": "code",
   "execution_count": 3,
   "metadata": {},
   "outputs": [
    {
     "data": {
      "text/plain": [
       "[1, 2, 3, 4, 5]"
      ]
     },
     "execution_count": 3,
     "metadata": {},
     "output_type": "execute_result"
    }
   ],
   "source": [
    "list_can"
   ]
  },
  {
   "cell_type": "code",
   "execution_count": 4,
   "metadata": {},
   "outputs": [
    {
     "data": {
      "text/plain": [
       "[1, 2]"
      ]
     },
     "execution_count": 4,
     "metadata": {},
     "output_type": "execute_result"
    }
   ],
   "source": [
    "del list_can[2:]\n",
    "list_can"
   ]
  },
  {
   "cell_type": "code",
   "execution_count": 5,
   "metadata": {},
   "outputs": [
    {
     "data": {
      "text/plain": [
       "[1, 'mahir', 2]"
      ]
     },
     "execution_count": 5,
     "metadata": {},
     "output_type": "execute_result"
    }
   ],
   "source": [
    "list_can.insert(1,\"mahir\")\n",
    "list_can"
   ]
  },
  {
   "cell_type": "code",
   "execution_count": 6,
   "metadata": {},
   "outputs": [
    {
     "data": {
      "text/plain": [
       "[1, 'mahir', 2, 'cancamuz']"
      ]
     },
     "execution_count": 6,
     "metadata": {},
     "output_type": "execute_result"
    }
   ],
   "source": [
    "list_can.append(\"cancamuz\")\n",
    "list_can"
   ]
  },
  {
   "cell_type": "code",
   "execution_count": 7,
   "metadata": {},
   "outputs": [
    {
     "data": {
      "text/plain": [
       "[1, 'mahir', 2]"
      ]
     },
     "execution_count": 7,
     "metadata": {},
     "output_type": "execute_result"
    }
   ],
   "source": [
    "del list_can[-1]\n",
    "list_can"
   ]
  },
  {
   "cell_type": "code",
   "execution_count": null,
   "metadata": {},
   "outputs": [],
   "source": []
  },
  {
   "cell_type": "code",
   "execution_count": null,
   "metadata": {},
   "outputs": [],
   "source": []
  }
 ],
 "metadata": {
  "interpreter": {
   "hash": "fbdfab660eea4e2e1fb163982cd077d07c0de6eb7a06fd562c42eb1bf55cd486"
  },
  "kernelspec": {
   "display_name": "Python 3",
   "language": "python",
   "name": "python3"
  },
  "language_info": {
   "codemirror_mode": {
    "name": "ipython",
    "version": 3
   },
   "file_extension": ".py",
   "mimetype": "text/x-python",
   "name": "python",
   "nbconvert_exporter": "python",
   "pygments_lexer": "ipython3",
   "version": "3.7.6"
  }
 },
 "nbformat": 4,
 "nbformat_minor": 2
}
