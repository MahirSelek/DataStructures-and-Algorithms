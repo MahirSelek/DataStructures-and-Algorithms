{
 "cells": [
  {
   "cell_type": "markdown",
   "metadata": {},
   "source": [
    "# QUEUE"
   ]
  },
  {
   "cell_type": "code",
   "execution_count": 3,
   "metadata": {},
   "outputs": [
    {
     "name": "stdout",
     "output_type": "stream",
     "text": [
      "Initial stack\n",
      "['mahir', 'berat', 3.4, 'merhaba', 2]\n",
      "\n",
      " Elements popped from the queue: \n",
      "mahir\n",
      "berat\n",
      "3.4\n",
      "\n",
      " Queue after elements are popped: \n",
      "['merhaba', 2]\n",
      "['merhaba', 2, 'update', 'Version 3.0']\n"
     ]
    }
   ],
   "source": [
    "#Python code to demonstrate queue implementation \n",
    "#using list\n",
    "\n",
    "queue = []\n",
    "\n",
    "# append() function to push elements in the queue\n",
    "\n",
    "queue.append(\"mahir\")\n",
    "queue.append(\"berat\") \n",
    "queue.append(3.4)\n",
    "queue.append('merhaba')\n",
    "queue.append(2)\n",
    "\n",
    "print('Initial stack')\n",
    "print(queue)\n",
    "\n",
    "# pop() function to pop elements from stack \n",
    "# in FIFO order\n",
    "\n",
    "print('\\n Elements popped from the queue: ')\n",
    "print(queue.pop(0)) #We have to indicate zeroth index we want to pop. \n",
    "print(queue.pop(0)) #Otherwise its gonna pop the last one.\n",
    "print(queue.pop(0))\n",
    "\n",
    "print('\\n Queue after elements are popped: ')\n",
    "print(queue)\n",
    "\n",
    "# Another try\n",
    "\n",
    "queue.append('update')\n",
    "queue.append(\"Version 3.0\")\n",
    "\n",
    "print(queue)"
   ]
  },
  {
   "cell_type": "markdown",
   "metadata": {},
   "source": [
    "# STACK"
   ]
  },
  {
   "cell_type": "code",
   "execution_count": 2,
   "metadata": {},
   "outputs": [
    {
     "name": "stdout",
     "output_type": "stream",
     "text": [
      "Initial stack\n",
      "['mahir', 'berat', 3.4, 'merhaba', 2]\n",
      "\n",
      " Elements popped from the stack: \n",
      "2\n",
      "merhaba\n",
      "3.4\n",
      "\n",
      " Stack after elements are popped: \n",
      "['mahir', 'berat']\n",
      "\n",
      "Alt satıra inmesi için n komutunu kullandım başta:\n",
      "['mahir', 'berat', 'update', 'Version 3.0']\n"
     ]
    }
   ],
   "source": [
    "#Python code to demonstrate stack implementation \n",
    "#using list\n",
    "\n",
    "stack = []\n",
    "\n",
    "# append() function to push elements in the stack\n",
    "\n",
    "stack.append(\"mahir\")\n",
    "stack.append(\"berat\") \n",
    "stack.append(3.4)\n",
    "stack.append('merhaba')\n",
    "stack.append(2)\n",
    "\n",
    "print('Initial stack')\n",
    "print(stack)\n",
    "\n",
    "# pop() function topop elements from stack \n",
    "# in LIFO/FILO order\n",
    "\n",
    "print('\\n Elements popped from the stack: ')\n",
    "print(stack.pop())\n",
    "print(stack.pop())\n",
    "print(stack.pop())\n",
    "\n",
    "print('\\n Stack after elements are popped: ')\n",
    "print(stack)\n",
    "\n",
    "# Another try\n",
    "\n",
    "stack.append('update')\n",
    "stack.append(\"Version 3.0\")\n",
    "\n",
    "print('\\nAlt satıra inmesi için n komutunu kullandım başta:')\n",
    "print(stack)"
   ]
  },
  {
   "cell_type": "code",
   "execution_count": 3,
   "metadata": {},
   "outputs": [],
   "source": [
    "list_deneme = []"
   ]
  },
  {
   "cell_type": "code",
   "execution_count": 4,
   "metadata": {},
   "outputs": [],
   "source": [
    "list_deneme.append(\"mahir\")\n",
    "list_deneme.append(\"sklhfdds\")\n",
    "list_deneme.append(2)\n",
    "list_deneme.append(2.3)\n",
    "list_deneme.append(-34)"
   ]
  },
  {
   "cell_type": "code",
   "execution_count": 5,
   "metadata": {},
   "outputs": [
    {
     "data": {
      "text/plain": [
       "['mahir', 'sklhfdds', 2, 2.3, -34]"
      ]
     },
     "execution_count": 5,
     "metadata": {},
     "output_type": "execute_result"
    }
   ],
   "source": [
    "list_deneme"
   ]
  },
  {
   "cell_type": "code",
   "execution_count": 6,
   "metadata": {},
   "outputs": [
    {
     "data": {
      "text/plain": [
       "['sklhfdds', 2, 2.3, -34]"
      ]
     },
     "execution_count": 6,
     "metadata": {},
     "output_type": "execute_result"
    }
   ],
   "source": [
    "list_deneme.pop(0)\n",
    "list_deneme"
   ]
  },
  {
   "cell_type": "code",
   "execution_count": 2,
   "metadata": {},
   "outputs": [],
   "source": [
    "list_can= [1,2,3,3,4,5]\n",
    "\n",
    "list_can.remove(3)"
   ]
  },
  {
   "cell_type": "code",
   "execution_count": 3,
   "metadata": {},
   "outputs": [
    {
     "data": {
      "text/plain": [
       "[1, 2, 3, 4, 5]"
      ]
     },
     "execution_count": 3,
     "metadata": {},
     "output_type": "execute_result"
    }
   ],
   "source": [
    "list_can"
   ]
  },
  {
   "cell_type": "code",
   "execution_count": 4,
   "metadata": {},
   "outputs": [
    {
     "data": {
      "text/plain": [
       "[1, 2]"
      ]
     },
     "execution_count": 4,
     "metadata": {},
     "output_type": "execute_result"
    }
   ],
   "source": [
    "del list_can[2:]\n",
    "list_can"
   ]
  },
  {
   "cell_type": "code",
   "execution_count": 5,
   "metadata": {},
   "outputs": [
    {
     "data": {
      "text/plain": [
       "[1, 'mahir', 2]"
      ]
     },
     "execution_count": 5,
     "metadata": {},
     "output_type": "execute_result"
    }
   ],
   "source": [
    "list_can.insert(1,\"mahir\")\n",
    "list_can"
   ]
  },
  {
   "cell_type": "code",
   "execution_count": 6,
   "metadata": {},
   "outputs": [
    {
     "data": {
      "text/plain": [
       "[1, 'mahir', 2, 'cancamuz']"
      ]
     },
     "execution_count": 6,
     "metadata": {},
     "output_type": "execute_result"
    }
   ],
   "source": [
    "list_can.append(\"cancamuz\")\n",
    "list_can"
   ]
  },
  {
   "cell_type": "code",
   "execution_count": 7,
   "metadata": {},
   "outputs": [
    {
     "data": {
      "text/plain": [
       "[1, 'mahir', 2]"
      ]
     },
     "execution_count": 7,
     "metadata": {},
     "output_type": "execute_result"
    }
   ],
   "source": [
    "del list_can[-1]\n",
    "list_can"
   ]
  },
  {
   "cell_type": "code",
   "execution_count": 2,
   "metadata": {},
   "outputs": [],
   "source": [
    "#---"
   ]
  },
  {
   "cell_type": "code",
   "execution_count": 3,
   "metadata": {},
   "outputs": [],
   "source": [
    "import math"
   ]
  },
  {
   "cell_type": "code",
   "execution_count": 7,
   "metadata": {},
   "outputs": [
    {
     "data": {
      "text/plain": [
       "35"
      ]
     },
     "execution_count": 7,
     "metadata": {},
     "output_type": "execute_result"
    }
   ],
   "source": [
    "math.ceil(34.324234) #ceil function rounds up to the next digit"
   ]
  },
  {
   "cell_type": "code",
   "execution_count": 6,
   "metadata": {},
   "outputs": [
    {
     "data": {
      "text/plain": [
       "10"
      ]
     },
     "execution_count": 6,
     "metadata": {},
     "output_type": "execute_result"
    }
   ],
   "source": [
    "math.ceil(9.00000000001)"
   ]
  },
  {
   "cell_type": "markdown",
   "metadata": {},
   "source": [
    "# Binary Search Python"
   ]
  },
  {
   "cell_type": "code",
   "execution_count": 46,
   "metadata": {},
   "outputs": [],
   "source": [
    "my_list = [2,3,32,34,2334,23433,55555]\n",
    "elem = 3\n",
    "\n",
    "def binary_search(my_list, elem):\n",
    "\n",
    "    first_index = 0\n",
    "    last_index = len(my_list) - 1\n",
    "\n",
    "    while first_index <= last_index:\n",
    "        i = int((first_index + last_index) / 2)\n",
    "        if my_list[i] == elem:\n",
    "            return f\"found at position {i}\"\n",
    "        elif my_list[i] > elem:\n",
    "            last_index = i-1\n",
    "        elif my_list[i] < elem:\n",
    "            first_index = i+1\n",
    "\n",
    "    else:\n",
    "        return f\"{elem} could not found in the list \" \n"
   ]
  },
  {
   "cell_type": "code",
   "execution_count": 47,
   "metadata": {},
   "outputs": [
    {
     "data": {
      "text/plain": [
       "'found at position 1'"
      ]
     },
     "execution_count": 47,
     "metadata": {},
     "output_type": "execute_result"
    }
   ],
   "source": [
    "\n",
    "binary_search(my_list,elem)"
   ]
  },
  {
   "attachments": {},
   "cell_type": "markdown",
   "metadata": {},
   "source": [
    "### Binary Search Exercise"
   ]
  },
  {
   "attachments": {},
   "cell_type": "markdown",
   "metadata": {},
   "source": [
    "##### Problem: Find index of all the occurances of a number from sorted list"
   ]
  },
  {
   "cell_type": "code",
   "execution_count": null,
   "metadata": {},
   "outputs": [],
   "source": [
    "def binary_search(number_list, number_to_find):\n",
    "    left_index = 0\n",
    "    right_index = len(number_list) - 1 \n",
    "    mid_index = 0"
   ]
  },
  {
   "cell_type": "markdown",
   "metadata": {},
   "source": [
    "# Linear Search Python"
   ]
  },
  {
   "cell_type": "code",
   "execution_count": 54,
   "metadata": {},
   "outputs": [],
   "source": [
    "my_list = [2,3,32,34,2334,23433,55555]\n",
    "elem2 = 0\n",
    "\n",
    "def linear_search(my_list, elem2):\n",
    " \n",
    "    for i in range(len(my_list)):\n",
    " \n",
    "        if my_list[i] == elem2:\n",
    "            return f\"found at position {i}\"\n",
    " \n",
    "    return f\"{elem2} could not found in the list \""
   ]
  },
  {
   "cell_type": "code",
   "execution_count": 55,
   "metadata": {},
   "outputs": [
    {
     "data": {
      "text/plain": [
       "'0 could not found in the list '"
      ]
     },
     "execution_count": 55,
     "metadata": {},
     "output_type": "execute_result"
    }
   ],
   "source": [
    "linear_search(my_list, elem2)"
   ]
  },
  {
   "cell_type": "code",
   "execution_count": null,
   "metadata": {},
   "outputs": [],
   "source": []
  },
  {
   "cell_type": "markdown",
   "metadata": {},
   "source": [
    "# Arrays"
   ]
  },
  {
   "cell_type": "markdown",
   "metadata": {},
   "source": [
    "An array is a collection of items stored at contiguous memory locations. The idea is to store multiple items of the same type together. This makes it easier to calculate the position of each element by simply adding an offset to a base value, i.e., the memory location of the first element of the array (generally denoted by the name of the array). (Description: Geeksforgeeks)"
   ]
  },
  {
   "cell_type": "code",
   "execution_count": null,
   "metadata": {},
   "outputs": [],
   "source": []
  }
 ],
 "metadata": {
  "kernelspec": {
   "display_name": "Python 3.9.7 64-bit",
   "language": "python",
   "name": "python3"
  },
  "language_info": {
   "codemirror_mode": {
    "name": "ipython",
    "version": 3
   },
   "file_extension": ".py",
   "mimetype": "text/x-python",
   "name": "python",
   "nbconvert_exporter": "python",
   "pygments_lexer": "ipython3",
   "version": "3.9.7"
  },
  "vscode": {
   "interpreter": {
    "hash": "11938c6bc6919ae2720b4d5011047913343b08a43b18698fd82dedb0d4417594"
   }
  }
 },
 "nbformat": 4,
 "nbformat_minor": 2
}
